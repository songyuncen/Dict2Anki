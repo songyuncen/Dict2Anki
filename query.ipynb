{
 "cells": [
  {
   "cell_type": "code",
   "execution_count": 1,
   "metadata": {},
   "outputs": [],
   "source": [
    "import logging\n",
    "import requests\n",
    "from urllib3 import Retry\n",
    "from urllib.parse import urlencode\n",
    "from requests.adapters import HTTPAdapter\n",
    "import json"
   ]
  },
  {
   "cell_type": "code",
   "execution_count": 2,
   "metadata": {},
   "outputs": [],
   "source": [
    "timeout = 10\n",
    "headers = {'User-Agent': 'Mozilla/5.0 (Macintosh; Intel Mac OS X 10_13_6) AppleWebKit/537.36 (KHTML, like Gecko) Chrome/69.0.3497.100 Safari/537.36'}\n",
    "retries = Retry(total=5, backoff_factor=1, status_forcelist=[500, 502, 503, 504])\n",
    "url = 'https://dict.youdao.com/jsonapi'\n",
    "params = {\"dicts\": {\"count\": 99, \"dicts\": [[\"ec\", \"ee\", \"phrs\", \"pic_dict\", \"collins\"], [\"web_trans\"], [\"fanyi\"], [\"blng_sents_part\"]]}}\n",
    "session = requests.Session()\n",
    "session.mount('http://', HTTPAdapter(max_retries=retries))\n",
    "session.mount('https://', HTTPAdapter(max_retries=retries))\n",
    "word = \"invest\"\n",
    "rsp = session.get(url, params=urlencode(dict(params, **{'q': word})), timeout=timeout)"
   ]
  },
  {
   "cell_type": "code",
   "execution_count": 3,
   "metadata": {},
   "outputs": [],
   "source": [
    "# save rsp to json file\n",
    "with open('res.json', 'w') as fp:\n",
    "    json.dump(rsp.json(), fp, indent=2)\n"
   ]
  }
 ],
 "metadata": {
  "kernelspec": {
   "display_name": "Python 3",
   "language": "python",
   "name": "python3"
  },
  "language_info": {
   "codemirror_mode": {
    "name": "ipython",
    "version": 3
   },
   "file_extension": ".py",
   "mimetype": "text/x-python",
   "name": "python",
   "nbconvert_exporter": "python",
   "pygments_lexer": "ipython3",
   "version": "3.7.9"
  }
 },
 "nbformat": 4,
 "nbformat_minor": 4
}
